{
 "cells": [
  {
   "cell_type": "markdown",
   "id": "1dbcbd71",
   "metadata": {},
   "source": [
    "## Portland General Electric Demand and Temperature Analysis for 2021\n",
    "\n",
    "### Sub analysis of demand forecast accuracy \n",
    "\n",
    "This is a quick analysis to identify if there is a correlation between Portland General Electric (PGE) hourly demand, demand forecast, and daytime mean temperature. \n",
    "\n",
    "This analysis will also determine the accuracy of PGE's demand forecast. \n",
    "\n",
    "This notebook will also serve as a guide for creating API calls on the EIA website. \n",
    "\n",
    "Background: PGE is a major public utility which distributes electricty to 44% of Oregon's inhabitants (including customers in Multnomah county). \n",
    "\n",
    "The year 2021 was selected as Oregon experienced [record temperatures](https://www.opb.org/article/2022/02/10/oregons-2021-heat-dome-notches-another-record/). Some parts of oregon reached 119F. \n",
    "\n",
    "The data for this analysis comes from the U.S. Energy Information Administration (https://www.eia.gov/opendata/). Data is made available via their public API. "
   ]
  },
  {
   "cell_type": "markdown",
   "id": "e033d49f",
   "metadata": {},
   "source": [
    "### Using EIA for energy data \n",
    "To use EIA for energy data, first, generate an API key using this link: \n",
    "https://www.eia.gov/opendata/register.php\n",
    "\n",
    "Save the api key to an `.env` file in your project directory. \n",
    "The file should have a format similar to a bash environmental variable: \n",
    "\n",
    "EIA_API_KEY=your_key\n",
    "\n",
    "This will later be sourced by the notebook. \n",
    "\n",
    "### Creating GET requests for EIA data \n",
    "\n",
    "EIA has a helpful API browser with a GET request formulater. \n",
    "\n",
    "For this project, the following is used:\n",
    "\n",
    "API ROUTE:  \n",
    "- Electricity\n",
    "- Electric Power Operations (Daily and Hourly) \n",
    "- Hourly Demand, Demand Forecast, Generation, And Interchange \n",
    "\n",
    "Frequency: \n",
    "- Hourly\n",
    "- Start: January 1, 2021 \n",
    "- End: December 21, 2021\n",
    "\n",
    "Filtered by: \n",
    "- Balancing Authority / Region: (PGE) Portland General Electric Company\n",
    "\n",
    "These filters generate an **API URL** of: \n",
    "`https://api.eia.gov/v2/electricity/rto/region-data/data/?frequency=hourly&data[0]=value&sort[0][column]=period&sort[0][direction]=desc&offset=0&length=5000`\n",
    "\n",
    "The API key needs to be added to all EIA urls. Add it immediately after the `?` symbol (which delimits the boundary between the URI object and query parameters). \n",
    "\n",
    "It becomes: \n",
    "\n",
    "`https://api.eia.gov/v2/electricity/rto/region-data/data/?api_key={EIA_API_KEY}&frequency=hourly&data[0]=value&sort[0][column]=period&sort[0][direction]=desc&offset=0&length=5000`"
   ]
  },
  {
   "cell_type": "code",
   "execution_count": 76,
   "id": "4cdc6600",
   "metadata": {},
   "outputs": [],
   "source": [
    "import requests\n",
    "import json\n",
    "import pandas as pd\n",
    "import numpy as np \n",
    "import os \n",
    "from dotenv import dotenv_values #reads key-value pairs from a .env file and can set them as environment variables"
   ]
  },
  {
   "cell_type": "code",
   "execution_count": null,
   "id": "692d216c",
   "metadata": {
    "scrolled": true
   },
   "outputs": [],
   "source": [
    "# This loads the shell environment into the jupyter notebook environment\n",
    "# So it is possible to get environmental variables that are in the .env file in the shell into this environment \n",
    "%load_ext dotenv\n",
    "%dotenv -o -v\n",
    "\n",
    "# Get the EIA_API_KEY from the environment \n",
    "EIA_API_KEY = os.environ.get(\"EIA_API_KEY\")"
   ]
  },
  {
   "cell_type": "markdown",
   "id": "eb94d380",
   "metadata": {},
   "source": [
    "### EIA API Call \n",
    "Below, the API call is made to get PGE's hourly demand and demand forecast data. \n",
    "#### NOTE on Limits, and Pagination \n",
    "\"EIA's API limits its data returns to the first 5,000 rows responsive to the request.\"\n",
    "[source](https://www.eia.gov/opendata/documentation.php)\n",
    "\n",
    "Therefore, 12 calls will be made; one for each month. Then, the 12 calls will be concatenated into one pandas dataframe. "
   ]
  },
  {
   "cell_type": "code",
   "execution_count": 150,
   "id": "8effa0ac",
   "metadata": {
    "scrolled": true
   },
   "outputs": [],
   "source": [
    "# months numbers as strings \n",
    "months = [('01','31'),('02','28'),('03','31'),('04','30'),('05','31'),('06','30'),('07','31'),('08','31'),('09','30'),('10','31'),('11','30'),('12','31')]\n",
    "# empty dataframe to concatentate the data into \n",
    "dfs = []\n",
    "\n",
    "for month in months: \n",
    "    eia_url = ('https://api.eia.gov/v2/electricity/rto/region-data/data/?' +\n",
    "          f'api_key={EIA_API_KEY}&' +\n",
    "          'frequency=hourly&' +\n",
    "          'data[0]=value&' +\n",
    "          'facets[respondent][]=PGE&' +\n",
    "          f'start=2021-{month[0]}-01T00&end=2021-{month[0]}-{month[1]}T23&' +\n",
    "          'sort[0][column]=period&sort[0][direction]=desc&offset=0&length=5000')\n",
    "    response = requests.get(eia_url)\n",
    "    eia_json = response.json()\n",
    "    month_dataframe = pd.DataFrame.from_dict(eia_json['response']['data'])\n",
    "    dfs.append(month_dataframe)\n"
   ]
  },
  {
   "cell_type": "code",
   "execution_count": 156,
   "id": "8b99ba46",
   "metadata": {},
   "outputs": [
    {
     "data": {
      "text/plain": [
       "(35039, 7)"
      ]
     },
     "execution_count": 156,
     "metadata": {},
     "output_type": "execute_result"
    }
   ],
   "source": [
    "pd.concat(dfs).shape"
   ]
  },
  {
   "cell_type": "markdown",
   "id": "f19dd8f6",
   "metadata": {},
   "source": [
    "Now, load the JSON data into a pandas dataframe "
   ]
  },
  {
   "cell_type": "code",
   "execution_count": 131,
   "id": "78107853",
   "metadata": {},
   "outputs": [
    {
     "name": "stdout",
     "output_type": "stream",
     "text": [
      "<class 'tuple'>\n"
     ]
    }
   ],
   "source": [
    "print(type(month_dataframe))"
   ]
  },
  {
   "cell_type": "code",
   "execution_count": null,
   "id": "95493675",
   "metadata": {},
   "outputs": [],
   "source": []
  },
  {
   "cell_type": "code",
   "execution_count": 110,
   "id": "e07f6aec",
   "metadata": {
    "scrolled": true
   },
   "outputs": [
    {
     "data": {
      "text/plain": [
       "(5000, 7)"
      ]
     },
     "execution_count": 110,
     "metadata": {},
     "output_type": "execute_result"
    }
   ],
   "source": [
    "# Parse out the response data from the JSON and load it into a table \n",
    "pd.DataFrame.from_dict(pge['response']['data']).shape"
   ]
  },
  {
   "cell_type": "code",
   "execution_count": 108,
   "id": "a0965eb4",
   "metadata": {},
   "outputs": [],
   "source": [
    "pge = response.json()"
   ]
  }
 ],
 "metadata": {
  "kernelspec": {
   "display_name": "Python 3 (ipykernel)",
   "language": "python",
   "name": "python3"
  },
  "language_info": {
   "codemirror_mode": {
    "name": "ipython",
    "version": 3
   },
   "file_extension": ".py",
   "mimetype": "text/x-python",
   "name": "python",
   "nbconvert_exporter": "python",
   "pygments_lexer": "ipython3",
   "version": "3.10.9"
  }
 },
 "nbformat": 4,
 "nbformat_minor": 5
}
