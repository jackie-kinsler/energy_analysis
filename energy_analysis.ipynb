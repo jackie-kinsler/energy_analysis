{
 "cells": [
  {
   "cell_type": "markdown",
   "id": "540ae29b",
   "metadata": {},
   "source": [
    "Analysis to understand correlation between PGE's hourly demand, demand forecast, and daytime mean temperature. \n",
    "\n",
    "\n",
    "Also understand the accuracy of PGE's demand forecast. "
   ]
  },
  {
   "cell_type": "markdown",
   "id": "91f68e56",
   "metadata": {},
   "source": [
    "Background: PGE is the major "
   ]
  }
 ],
 "metadata": {
  "kernelspec": {
   "display_name": "Python 3 (ipykernel)",
   "language": "python",
   "name": "python3"
  },
  "language_info": {
   "codemirror_mode": {
    "name": "ipython",
    "version": 3
   },
   "file_extension": ".py",
   "mimetype": "text/x-python",
   "name": "python",
   "nbconvert_exporter": "python",
   "pygments_lexer": "ipython3",
   "version": "3.10.9"
  }
 },
 "nbformat": 4,
 "nbformat_minor": 5
}
